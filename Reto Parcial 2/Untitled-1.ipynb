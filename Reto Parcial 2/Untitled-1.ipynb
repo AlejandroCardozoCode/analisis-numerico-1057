{
 "cells": [
  {
   "cell_type": "code",
   "execution_count": null,
   "metadata": {},
   "outputs": [],
   "source": [
    "from scipy import interpolate\n",
    "import matplotlib.pyplot as plt\n",
    "\n",
    "# definicion de arreglos globales\n",
    "hora_inter = []\n",
    "temp_inter = []\n",
    "\n",
    "\n",
    "# calcular valores por interpolacion\n",
    "def inter(hora, temperatura):\n",
    "    interpolacion_hora_temp = interpolate.interp1d(hora, temperatura)\n",
    "\n",
    "    i = hora[0]\n",
    "    for x in range(0, len(hora)*2 + 1):\n",
    "        hora_inter.append(i)\n",
    "        temp_inter.append(interpolacion_hora_temp(i))\n",
    "        i = i + 0.5\n",
    "\n",
    "\n",
    "# inicializacion de los arreglos\n",
    "hora = [7, 8, 9, 10, 11, 12, 14]\n",
    "temperatura_inicial = [22.42, 27.98, 30.75, 31.44, 35.08, 36.14, 34.37]\n",
    "# calculo de la interpolacion\n",
    "inter(hora, temperatura_inicial)\n",
    "\n"
   ]
  },
  {
   "cell_type": "code",
   "execution_count": null,
   "metadata": {},
   "outputs": [],
   "source": [
    "\n",
    "# definicion de arreglos globales\n",
    "hora_inter = []\n",
    "temp_inter = []\n",
    "\n",
    "\n",
    "# calcular valores por interpolacion\n",
    "def inter(hora, temperatura):\n",
    "    interpolacion_hora_temp = interpolate.interp1d(hora, temperatura)\n",
    "\n",
    "    i = hora[0]\n",
    "    for x in range(0, len(hora)*2 + 1):\n",
    "        hora_inter.append(i)\n",
    "        temp_inter.append(interpolacion_hora_temp(i))\n",
    "        i = i + 0.5\n",
    "\n",
    "\n",
    "# inicializacion de los arreglos\n",
    "hora = [7, 8, 9, 10, 11, 12, 14]\n",
    "temperatura_inicial = [22.42, 27.98, 30.75, 31.44, 35.08, 36.14, 34.37]\n",
    "# calculo de la interpolacion\n",
    "inter(hora, temperatura_inicial)\n",
    "\n"
   ]
  },
  {
   "cell_type": "code",
   "execution_count": null,
   "metadata": {},
   "outputs": [],
   "source": [
    "\n",
    "# impresion de datos en consola\n",
    "\n",
    "print(\"valores de temperatura iniciales\")\n",
    "for x in temperatura_inicial:\n",
    "    print(x)\n",
    "print(\"Los valores de las temperatura calcualda con interpolacion son: \")\n",
    "for x in temp_inter:\n",
    "    print(\"{:.2f} \".format(x))\n"
   ]
  },
  {
   "cell_type": "code",
   "execution_count": null,
   "metadata": {},
   "outputs": [],
   "source": [
    "# impresion de graficas de los datos\n",
    "plt.plot(hora, temperatura_inicial, '+-r', linewidth=2)\n",
    "plt.scatter(hora, temperatura_inicial, s=120, c='#FF0000', marker=\"+\")\n",
    "plt.plot(hora_inter, temp_inter, '.-k', linewidth=1)\n",
    "plt.xlabel('Hora del dia')\n",
    "plt.ylabel('Temperatura interna (c)')\n",
    "plt.show()\n"
   ]
  }
 ],
 "metadata": {
  "interpreter": {
   "hash": "c39f0d9d4c5cb1c97a24c167a189e7be2364927afa7163601456486cbada0f60"
  },
  "kernelspec": {
   "display_name": "Python 3.9.7 64-bit",
   "name": "python3"
  },
  "language_info": {
   "codemirror_mode": {
    "name": "ipython",
    "version": 3
   },
   "file_extension": ".py",
   "mimetype": "text/x-python",
   "name": "python",
   "nbconvert_exporter": "python",
   "pygments_lexer": "ipython3",
   "version": "3.9.7"
  },
  "orig_nbformat": 4
 },
 "nbformat": 4,
 "nbformat_minor": 2
}

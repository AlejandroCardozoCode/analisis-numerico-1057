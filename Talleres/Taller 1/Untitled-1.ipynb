{
    "cells": [
        {
            "cell_type": "code",
            "execution_count": 2,
            "source": [
                "import math\r\n",
                "from math import copysign \r\n",
                "\r\n",
                "def metodoBiseccion(a,b,e):\r\n",
                "\r\n",
                "    sign = lambda x : copysign(1, x) # variable que dice si el signo de un valor es negatibo (-1) o si es positivo (1)\r\n",
                "    iteraciones = 0\r\n",
                "    while b - a > e:\r\n",
                "        c = (a+b)/2\r\n",
                "        if funcion(c) == 0: \r\n",
                "            return round(c,4)\r\n",
                "        else:\r\n",
                "            if sign(funcion(c)) == sign(funcion(a)):\r\n",
                "                a = c\r\n",
                "            else:\r\n",
                "                b = c\r\n",
                "        iteraciones += 1\r\n",
                "    print(\"El numero de iteraciones fue de: \" + str(iteraciones))\r\n",
                "    return round((a+b)/2, 4) \r\n",
                "\r\n",
                "def funcion(x):\r\n",
                "    valor = x * (math.e**x) - math.pi # funcion (x * e^x -pi) de prueba que esta en el libro ANALISIS NUMERICO BASICO\r\n",
                "    return round(valor,4) \r\n",
                "\r\n",
                "e = input(\"Ingrese el valor del error: \")\r\n",
                "a = input(\"Ingrese el valor inicial del intervalo: \") \r\n",
                "b = input(\"Ingrese el valor final del intervalo: \") \r\n",
                "\r\n",
                "print(metodoBiseccion(float(a),float(b),float(e)))"
            ],
            "outputs": [
                {
                    "output_type": "stream",
                    "name": "stdout",
                    "text": [
                        "El numero de iteraciones fue de: 8\n",
                        "1.0742\n"
                    ]
                }
            ],
            "metadata": {}
        },
        {
            "cell_type": "code",
            "execution_count": 3,
            "source": [
                "import numpy as np\r\n",
                "import matplotlib.pyplot as plt\r\n",
                "from scipy.interpolate import approximate_taylor_polynomial\r\n",
                "\r\n",
                "def f1(x):\r\n",
                "    if 1-x == 0:\r\n",
                "        return 0 \r\n",
                "    else:\r\n",
                "        return 1/(1-float(x))\r\n",
                "\r\n",
                "\r\n",
                "valorInicio = input(\"ingrese el valor inicial del rango: \")\r\n",
                "valorFinal = input(\"ingrese el valor final del rango: \")\r\n",
                "numeros = input(\"ingrese el valor de cuantos numeros se quieren: \")\r\n",
                "\r\n",
                "f = np.linspace(int(valorInicio), int(valorFinal), int(numeros)) # se crean los valores en el rango \r\n",
                "\r\n",
                "lista = []\r\n",
                "taylor = []\r\n",
                "\r\n",
                "for v in f:\r\n",
                "    valor = f1(v)\r\n",
                "    lista.append(float(valor))\r\n",
                "\r\n",
                "#for v in f:\r\n",
                "    #valor = approximate_taylor_polynomial(f1(v), v) \r\n",
                "    #lista.append(float(valor))\r\n",
                "\r\n",
                "print(\"----- Valores Rango ------\")\r\n",
                "\r\n",
                "for i in range(0, len(f)):\r\n",
                "    print(str(i) + \": \" + str(f[i]))\r\n",
                "\r\n",
                "print(\"----- Valores Aproximacion ------\")\r\n",
                "\r\n",
                "for i in range(0, len(lista)):\r\n",
                "    print(str(i) + \": \" + str(lista[i]))\r\n",
                "\r\n",
                "#print(\"----- Valores Taylor ------\")\r\n",
                "\r\n",
                "#for i in range(0, len(lista)):\r\n",
                "    #print(str(i) + \": \" + str(taylor[i]))\r\n"
            ],
            "outputs": [
                {
                    "output_type": "error",
                    "ename": "ValueError",
                    "evalue": "invalid literal for int() with base 10: ''",
                    "traceback": [
                        "\u001b[1;31m---------------------------------------------------------------------------\u001b[0m",
                        "\u001b[1;31mValueError\u001b[0m                                Traceback (most recent call last)",
                        "\u001b[1;32m~\\AppData\\Local\\Temp/ipykernel_3872/4009910148.py\u001b[0m in \u001b[0;36m<module>\u001b[1;34m\u001b[0m\n\u001b[0;32m     14\u001b[0m \u001b[0mnumeros\u001b[0m \u001b[1;33m=\u001b[0m \u001b[0minput\u001b[0m\u001b[1;33m(\u001b[0m\u001b[1;34m\"ingrese el valor de cuantos numeros se quieren: \"\u001b[0m\u001b[1;33m)\u001b[0m\u001b[1;33m\u001b[0m\u001b[1;33m\u001b[0m\u001b[0m\n\u001b[0;32m     15\u001b[0m \u001b[1;33m\u001b[0m\u001b[0m\n\u001b[1;32m---> 16\u001b[1;33m \u001b[0mf\u001b[0m \u001b[1;33m=\u001b[0m \u001b[0mnp\u001b[0m\u001b[1;33m.\u001b[0m\u001b[0mlinspace\u001b[0m\u001b[1;33m(\u001b[0m\u001b[0mint\u001b[0m\u001b[1;33m(\u001b[0m\u001b[0mvalorInicio\u001b[0m\u001b[1;33m)\u001b[0m\u001b[1;33m,\u001b[0m \u001b[0mint\u001b[0m\u001b[1;33m(\u001b[0m\u001b[0mvalorFinal\u001b[0m\u001b[1;33m)\u001b[0m\u001b[1;33m,\u001b[0m \u001b[0mint\u001b[0m\u001b[1;33m(\u001b[0m\u001b[0mnumeros\u001b[0m\u001b[1;33m)\u001b[0m\u001b[1;33m)\u001b[0m \u001b[1;31m# se crean los valores en el rango\u001b[0m\u001b[1;33m\u001b[0m\u001b[1;33m\u001b[0m\u001b[0m\n\u001b[0m\u001b[0;32m     17\u001b[0m \u001b[1;33m\u001b[0m\u001b[0m\n\u001b[0;32m     18\u001b[0m \u001b[0mlista\u001b[0m \u001b[1;33m=\u001b[0m \u001b[1;33m[\u001b[0m\u001b[1;33m]\u001b[0m\u001b[1;33m\u001b[0m\u001b[1;33m\u001b[0m\u001b[0m\n",
                        "\u001b[1;31mValueError\u001b[0m: invalid literal for int() with base 10: ''"
                    ]
                }
            ],
            "metadata": {}
        }
    ],
    "metadata": {
        "orig_nbformat": 4,
        "language_info": {
            "name": "python",
            "version": "3.9.5",
            "mimetype": "text/x-python",
            "codemirror_mode": {
                "name": "ipython",
                "version": 3
            },
            "pygments_lexer": "ipython3",
            "nbconvert_exporter": "python",
            "file_extension": ".py"
        },
        "kernelspec": {
            "name": "python3",
            "display_name": "Python 3.9.5 64-bit"
        },
        "interpreter": {
            "hash": "1cb5b5aa321ce5384aebaefcef0f70d26743961cd5903b71c7e186ed25deb2f7"
        }
    },
    "nbformat": 4,
    "nbformat_minor": 2
}